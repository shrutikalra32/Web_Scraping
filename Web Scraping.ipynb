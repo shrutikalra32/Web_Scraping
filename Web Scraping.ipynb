{
 "cells": [
  {
   "cell_type": "code",
   "execution_count": 1,
   "metadata": {},
   "outputs": [],
   "source": [
    "import requests\n",
    "from bs4 import BeautifulSoup"
   ]
  },
  {
   "cell_type": "code",
   "execution_count": 2,
   "metadata": {},
   "outputs": [],
   "source": [
    "page = requests.get(\"http://forecast.weather.gov/MapClick.php?lat=37.7772&lon=-122.4168\")"
   ]
  },
  {
   "cell_type": "code",
   "execution_count": 3,
   "metadata": {},
   "outputs": [],
   "source": [
    "soup = BeautifulSoup(page.content, 'html.parser')"
   ]
  },
  {
   "cell_type": "code",
   "execution_count": 4,
   "metadata": {},
   "outputs": [
    {
     "name": "stdout",
     "output_type": "stream",
     "text": [
      "<div class=\"tombstone-container\">\n",
      " <p class=\"period-name\">\n",
      "  Today\n",
      "  <br/>\n",
      "  <br/>\n",
      " </p>\n",
      " <p>\n",
      "  <img alt=\"Today: Mostly cloudy, then gradually becoming sunny, with a high near 68. West southwest wind 8 to 15 mph, with gusts as high as 20 mph. \" class=\"forecast-icon\" src=\"newimages/medium/bkn.png\" title=\"Today: Mostly cloudy, then gradually becoming sunny, with a high near 68. West southwest wind 8 to 15 mph, with gusts as high as 20 mph. \"/>\n",
      " </p>\n",
      " <p class=\"short-desc\">\n",
      "  Decreasing\n",
      "  <br/>\n",
      "  Clouds\n",
      " </p>\n",
      " <p class=\"temp temp-high\">\n",
      "  High: 68 °F\n",
      " </p>\n",
      "</div>\n"
     ]
    }
   ],
   "source": [
    "seven_day = soup.find(id=\"seven-day-forecast\")\n",
    "forecast_items = seven_day.find_all(class_=\"tombstone-container\")\n",
    "tonight = forecast_items[0]\n",
    "print(tonight.prettify())"
   ]
  },
  {
   "cell_type": "code",
   "execution_count": 5,
   "metadata": {},
   "outputs": [
    {
     "name": "stdout",
     "output_type": "stream",
     "text": [
      "Today\n",
      "DecreasingClouds\n",
      "High: 68 °F\n"
     ]
    }
   ],
   "source": [
    "period = tonight.find(class_=\"period-name\").get_text()\n",
    "short_desc = tonight.find(class_=\"short-desc\").get_text()\n",
    "temp = tonight.find(class_=\"temp\").get_text()\n",
    "\n",
    "print(period)\n",
    "print(short_desc)\n",
    "print(temp)"
   ]
  },
  {
   "cell_type": "code",
   "execution_count": 6,
   "metadata": {},
   "outputs": [
    {
     "data": {
      "text/plain": [
       "['Today',\n",
       " 'Tonight',\n",
       " 'Saturday',\n",
       " 'SaturdayNight',\n",
       " 'Sunday',\n",
       " 'SundayNight',\n",
       " 'Monday',\n",
       " 'MondayNight',\n",
       " 'Tuesday']"
      ]
     },
     "execution_count": 6,
     "metadata": {},
     "output_type": "execute_result"
    }
   ],
   "source": [
    "period_tags = seven_day.select(\".tombstone-container .period-name\")\n",
    "periods = [pt.get_text() for pt in period_tags]\n",
    "periods"
   ]
  },
  {
   "cell_type": "code",
   "execution_count": 7,
   "metadata": {},
   "outputs": [
    {
     "name": "stdout",
     "output_type": "stream",
     "text": [
      "['DecreasingClouds', 'Partly Cloudy', 'Mostly Sunny', 'Partly Cloudy', 'Mostly Sunny', 'Partly Cloudy', 'Sunny', 'Partly Cloudy', 'Mostly Sunny']\n",
      "['High: 68 °F', 'Low: 55 °F', 'High: 67 °F', 'Low: 54 °F', 'High: 67 °F', 'Low: 53 °F', 'High: 65 °F', 'Low: 52 °F', 'High: 65 °F']\n",
      "['Today: Mostly cloudy, then gradually becoming sunny, with a high near 68. West southwest wind 8 to 15 mph, with gusts as high as 20 mph. ', 'Tonight: Partly cloudy, with a low around 55. West southwest wind 9 to 16 mph, with gusts as high as 21 mph. ', 'Saturday: Mostly sunny, with a high near 67. West southwest wind 8 to 14 mph, with gusts as high as 18 mph. ', 'Saturday Night: Partly cloudy, with a low around 54. West southwest wind 9 to 15 mph, with gusts as high as 18 mph. ', 'Sunday: Mostly sunny, with a high near 67. West wind 7 to 16 mph, with gusts as high as 21 mph. ', 'Sunday Night: Partly cloudy, with a low around 53.', 'Monday: Sunny, with a high near 65.', 'Monday Night: Partly cloudy, with a low around 52.', 'Tuesday: Mostly sunny, with a high near 65.']\n"
     ]
    }
   ],
   "source": [
    "short_descs = [sd.get_text() for sd in seven_day.select(\".tombstone-container .short-desc\")]\n",
    "temps = [t.get_text() for t in seven_day.select(\".tombstone-container .temp\")]\n",
    "descs = [d[\"title\"] for d in seven_day.select(\".tombstone-container img\")]\n",
    "print(short_descs)\n",
    "print(temps)\n",
    "print(descs)"
   ]
  },
  {
   "cell_type": "code",
   "execution_count": 8,
   "metadata": {},
   "outputs": [
    {
     "data": {
      "text/html": [
       "<div>\n",
       "<style scoped>\n",
       "    .dataframe tbody tr th:only-of-type {\n",
       "        vertical-align: middle;\n",
       "    }\n",
       "\n",
       "    .dataframe tbody tr th {\n",
       "        vertical-align: top;\n",
       "    }\n",
       "\n",
       "    .dataframe thead th {\n",
       "        text-align: right;\n",
       "    }\n",
       "</style>\n",
       "<table border=\"1\" class=\"dataframe\">\n",
       "  <thead>\n",
       "    <tr style=\"text-align: right;\">\n",
       "      <th></th>\n",
       "      <th>desc</th>\n",
       "      <th>period</th>\n",
       "      <th>short_desc</th>\n",
       "      <th>temp</th>\n",
       "    </tr>\n",
       "  </thead>\n",
       "  <tbody>\n",
       "    <tr>\n",
       "      <th>0</th>\n",
       "      <td>Today: Mostly cloudy, then gradually becoming ...</td>\n",
       "      <td>Today</td>\n",
       "      <td>DecreasingClouds</td>\n",
       "      <td>High: 68 °F</td>\n",
       "    </tr>\n",
       "    <tr>\n",
       "      <th>1</th>\n",
       "      <td>Tonight: Partly cloudy, with a low around 55. ...</td>\n",
       "      <td>Tonight</td>\n",
       "      <td>Partly Cloudy</td>\n",
       "      <td>Low: 55 °F</td>\n",
       "    </tr>\n",
       "    <tr>\n",
       "      <th>2</th>\n",
       "      <td>Saturday: Mostly sunny, with a high near 67. W...</td>\n",
       "      <td>Saturday</td>\n",
       "      <td>Mostly Sunny</td>\n",
       "      <td>High: 67 °F</td>\n",
       "    </tr>\n",
       "    <tr>\n",
       "      <th>3</th>\n",
       "      <td>Saturday Night: Partly cloudy, with a low arou...</td>\n",
       "      <td>SaturdayNight</td>\n",
       "      <td>Partly Cloudy</td>\n",
       "      <td>Low: 54 °F</td>\n",
       "    </tr>\n",
       "    <tr>\n",
       "      <th>4</th>\n",
       "      <td>Sunday: Mostly sunny, with a high near 67. Wes...</td>\n",
       "      <td>Sunday</td>\n",
       "      <td>Mostly Sunny</td>\n",
       "      <td>High: 67 °F</td>\n",
       "    </tr>\n",
       "    <tr>\n",
       "      <th>5</th>\n",
       "      <td>Sunday Night: Partly cloudy, with a low around...</td>\n",
       "      <td>SundayNight</td>\n",
       "      <td>Partly Cloudy</td>\n",
       "      <td>Low: 53 °F</td>\n",
       "    </tr>\n",
       "    <tr>\n",
       "      <th>6</th>\n",
       "      <td>Monday: Sunny, with a high near 65.</td>\n",
       "      <td>Monday</td>\n",
       "      <td>Sunny</td>\n",
       "      <td>High: 65 °F</td>\n",
       "    </tr>\n",
       "    <tr>\n",
       "      <th>7</th>\n",
       "      <td>Monday Night: Partly cloudy, with a low around...</td>\n",
       "      <td>MondayNight</td>\n",
       "      <td>Partly Cloudy</td>\n",
       "      <td>Low: 52 °F</td>\n",
       "    </tr>\n",
       "    <tr>\n",
       "      <th>8</th>\n",
       "      <td>Tuesday: Mostly sunny, with a high near 65.</td>\n",
       "      <td>Tuesday</td>\n",
       "      <td>Mostly Sunny</td>\n",
       "      <td>High: 65 °F</td>\n",
       "    </tr>\n",
       "  </tbody>\n",
       "</table>\n",
       "</div>"
      ],
      "text/plain": [
       "                                                desc         period  \\\n",
       "0  Today: Mostly cloudy, then gradually becoming ...          Today   \n",
       "1  Tonight: Partly cloudy, with a low around 55. ...        Tonight   \n",
       "2  Saturday: Mostly sunny, with a high near 67. W...       Saturday   \n",
       "3  Saturday Night: Partly cloudy, with a low arou...  SaturdayNight   \n",
       "4  Sunday: Mostly sunny, with a high near 67. Wes...         Sunday   \n",
       "5  Sunday Night: Partly cloudy, with a low around...    SundayNight   \n",
       "6                Monday: Sunny, with a high near 65.         Monday   \n",
       "7  Monday Night: Partly cloudy, with a low around...    MondayNight   \n",
       "8        Tuesday: Mostly sunny, with a high near 65.        Tuesday   \n",
       "\n",
       "         short_desc         temp  \n",
       "0  DecreasingClouds  High: 68 °F  \n",
       "1     Partly Cloudy   Low: 55 °F  \n",
       "2      Mostly Sunny  High: 67 °F  \n",
       "3     Partly Cloudy   Low: 54 °F  \n",
       "4      Mostly Sunny  High: 67 °F  \n",
       "5     Partly Cloudy   Low: 53 °F  \n",
       "6             Sunny  High: 65 °F  \n",
       "7     Partly Cloudy   Low: 52 °F  \n",
       "8      Mostly Sunny  High: 65 °F  "
      ]
     },
     "execution_count": 8,
     "metadata": {},
     "output_type": "execute_result"
    }
   ],
   "source": [
    "import pandas as pd\n",
    "weather = pd.DataFrame({\n",
    "        \"period\": periods,\n",
    "         \"short_desc\": short_descs,\n",
    "         \"temp\": temps,\n",
    "         \"desc\":descs\n",
    "    })\n",
    "weather\n"
   ]
  },
  {
   "cell_type": "code",
   "execution_count": 9,
   "metadata": {},
   "outputs": [
    {
     "data": {
      "text/html": [
       "<div>\n",
       "<style scoped>\n",
       "    .dataframe tbody tr th:only-of-type {\n",
       "        vertical-align: middle;\n",
       "    }\n",
       "\n",
       "    .dataframe tbody tr th {\n",
       "        vertical-align: top;\n",
       "    }\n",
       "\n",
       "    .dataframe thead th {\n",
       "        text-align: right;\n",
       "    }\n",
       "</style>\n",
       "<table border=\"1\" class=\"dataframe\">\n",
       "  <thead>\n",
       "    <tr style=\"text-align: right;\">\n",
       "      <th></th>\n",
       "      <th>desc</th>\n",
       "      <th>period</th>\n",
       "      <th>short_desc</th>\n",
       "      <th>temp</th>\n",
       "      <th>is_night</th>\n",
       "    </tr>\n",
       "  </thead>\n",
       "  <tbody>\n",
       "    <tr>\n",
       "      <th>1</th>\n",
       "      <td>Tonight: Partly cloudy, with a low around 55. ...</td>\n",
       "      <td>Tonight</td>\n",
       "      <td>Partly Cloudy</td>\n",
       "      <td>Low: 55 °F</td>\n",
       "      <td>True</td>\n",
       "    </tr>\n",
       "    <tr>\n",
       "      <th>3</th>\n",
       "      <td>Saturday Night: Partly cloudy, with a low arou...</td>\n",
       "      <td>SaturdayNight</td>\n",
       "      <td>Partly Cloudy</td>\n",
       "      <td>Low: 54 °F</td>\n",
       "      <td>True</td>\n",
       "    </tr>\n",
       "    <tr>\n",
       "      <th>5</th>\n",
       "      <td>Sunday Night: Partly cloudy, with a low around...</td>\n",
       "      <td>SundayNight</td>\n",
       "      <td>Partly Cloudy</td>\n",
       "      <td>Low: 53 °F</td>\n",
       "      <td>True</td>\n",
       "    </tr>\n",
       "    <tr>\n",
       "      <th>7</th>\n",
       "      <td>Monday Night: Partly cloudy, with a low around...</td>\n",
       "      <td>MondayNight</td>\n",
       "      <td>Partly Cloudy</td>\n",
       "      <td>Low: 52 °F</td>\n",
       "      <td>True</td>\n",
       "    </tr>\n",
       "  </tbody>\n",
       "</table>\n",
       "</div>"
      ],
      "text/plain": [
       "                                                desc         period  \\\n",
       "1  Tonight: Partly cloudy, with a low around 55. ...        Tonight   \n",
       "3  Saturday Night: Partly cloudy, with a low arou...  SaturdayNight   \n",
       "5  Sunday Night: Partly cloudy, with a low around...    SundayNight   \n",
       "7  Monday Night: Partly cloudy, with a low around...    MondayNight   \n",
       "\n",
       "      short_desc        temp  is_night  \n",
       "1  Partly Cloudy  Low: 55 °F      True  \n",
       "3  Partly Cloudy  Low: 54 °F      True  \n",
       "5  Partly Cloudy  Low: 53 °F      True  \n",
       "7  Partly Cloudy  Low: 52 °F      True  "
      ]
     },
     "execution_count": 9,
     "metadata": {},
     "output_type": "execute_result"
    }
   ],
   "source": [
    "is_night = weather[\"temp\"].str.contains(\"Low\")\n",
    "weather[\"is_night\"] = is_night\n",
    "weather[is_night]"
   ]
  },
  {
   "cell_type": "code",
   "execution_count": null,
   "metadata": {},
   "outputs": [],
   "source": []
  }
 ],
 "metadata": {
  "kernelspec": {
   "display_name": "Python 3",
   "language": "python",
   "name": "python3"
  },
  "language_info": {
   "codemirror_mode": {
    "name": "ipython",
    "version": 3
   },
   "file_extension": ".py",
   "mimetype": "text/x-python",
   "name": "python",
   "nbconvert_exporter": "python",
   "pygments_lexer": "ipython3",
   "version": "3.6.4"
  }
 },
 "nbformat": 4,
 "nbformat_minor": 2
}
